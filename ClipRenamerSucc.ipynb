{
 "cells": [
  {
   "cell_type": "code",
   "execution_count": null,
   "id": "5168b569",
   "metadata": {},
   "outputs": [],
   "source": [
    "import os"
   ]
  },
  {
   "cell_type": "code",
   "execution_count": null,
   "id": "64f90609",
   "metadata": {},
   "outputs": [],
   "source": [
    "def stringParter(filename):\n",
    "    fileinfo = filename.split(\" \")\n",
    "    print(fileinfo)\n",
    "    return fileinfo[1]"
   ]
  },
  {
   "cell_type": "code",
   "execution_count": null,
   "id": "126a762a",
   "metadata": {},
   "outputs": [],
   "source": [
    "def dateParter(datestring):\n",
    "    splitdate = datestring.split(\"-\")\n",
    "    return splitdate"
   ]
  },
  {
   "cell_type": "code",
   "execution_count": null,
   "id": "7039989c",
   "metadata": {},
   "outputs": [],
   "source": [
    "def swapdate(datearray):\n",
    "    datearray[0], datearray[2] = datearray[2], datearray[0]\n",
    "    datearray[1], datearray[2] = datearray[2], datearray[1]\n",
    "    return datearray"
   ]
  },
  {
   "cell_type": "code",
   "execution_count": null,
   "id": "ea65e191",
   "metadata": {},
   "outputs": [],
   "source": [
    "def redateRsucc(path):\n",
    "    folder=path\n",
    "    for filename in os.listdir(folder):\n",
    "        firstCh=filename[0]\n",
    "        if firstCh.isalpha():\n",
    "            datearray=swapdate(dateParter(stringParter(filename)))\n",
    "            fixedDate=datearray[0]+\"-\"+datearray[1]+\"-\"+datearray[2]\n",
    "            dst=fixedDate\n",
    "            i=1\n",
    "            while dst+\".mp4\" in os.listdir(folder):\n",
    "                dst+=\"-\"+str(i)\n",
    "                i+=1\n",
    "            dst+=\".mp4\"\n",
    "            src=f\"{folder}\\\\{filename}\"\n",
    "            dst=f\"{folder}\\\\{dst}\"\n",
    "            os.rename(src, dst)"
   ]
  },
  {
   "cell_type": "code",
   "execution_count": null,
   "id": "1ea5e9cf",
   "metadata": {},
   "outputs": [],
   "source": [
    "redateRsucc(\"PATH\")"
   ]
  }
 ],
 "metadata": {
  "kernelspec": {
   "display_name": "Python 3 (ipykernel)",
   "language": "python",
   "name": "python3"
  },
  "language_info": {
   "codemirror_mode": {
    "name": "ipython",
    "version": 3
   },
   "file_extension": ".py",
   "mimetype": "text/x-python",
   "name": "python",
   "nbconvert_exporter": "python",
   "pygments_lexer": "ipython3",
   "version": "3.11.3"
  }
 },
 "nbformat": 4,
 "nbformat_minor": 5
}
