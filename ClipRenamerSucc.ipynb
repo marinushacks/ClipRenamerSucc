{
 "cells": [
  {
   "cell_type": "markdown",
   "metadata": {},
   "source": [
    "# Clip Renamer\n",
    "\n",
    "This is a Clip Renamer to automatically edit the name from `GAME MM-DD-YYYY ##-##-##-##.mp4` to `YYYY-MM-DD-?.mp4` so that all clips are sorted by date in the directory."
   ]
  },
  {
   "cell_type": "code",
   "execution_count": null,
   "metadata": {},
   "outputs": [],
   "source": [
    "import os"
   ]
  },
  {
   "cell_type": "code",
   "execution_count": null,
   "metadata": {},
   "outputs": [],
   "source": [
    "def stringParter(filename):\n",
    "    fileinfo = filename.split(\" \")\n",
    "    print(fileinfo)\n",
    "    return fileinfo[1]"
   ]
  },
  {
   "cell_type": "code",
   "execution_count": null,
   "metadata": {},
   "outputs": [],
   "source": [
    "def dateParter(datestring):\n",
    "    splitdate = datestring.split(\"-\")\n",
    "    return splitdate"
   ]
  },
  {
   "cell_type": "code",
   "execution_count": null,
   "metadata": {},
   "outputs": [],
   "source": [
    "def swapdate(datearray):\n",
    "    datearray[0], datearray[2] = datearray[2], datearray[0]\n",
    "    datearray[1], datearray[2] = datearray[2], datearray[1]\n",
    "    return datearray"
   ]
  },
  {
   "cell_type": "code",
   "execution_count": null,
   "metadata": {},
   "outputs": [],
   "source": [
    "def redateRsucc(path):\n",
    "    folder=path\n",
    "    for filename in os.listdir(folder):\n",
    "        firstCh=filename[0]\n",
    "        if firstCh.isalpha():\n",
    "            datearray=swapdate(dateParter(stringParter(filename)))\n",
    "            fixedDate=datearray[0]+\"-\"+datearray[1]+\"-\"+datearray[2]\n",
    "            dst=fixedDate\n",
    "            i=1\n",
    "            addition = \"\"\n",
    "            while True:\n",
    "                if dst+addition+\".mp4\" not in os.listdir(folder):\n",
    "                    break\n",
    "                addition = f\"-{i}\"\n",
    "                i+=1  \n",
    "            dst+=\".mp4\"\n",
    "            src=f\"{folder}\\\\{filename}\"\n",
    "            dst=f\"{folder}\\\\{dst}\"\n",
    "            os.rename(src, dst)"
   ]
  },
  {
   "cell_type": "code",
   "execution_count": null,
   "metadata": {},
   "outputs": [],
   "source": [
    "redateRsucc(\"PATH\")"
   ]
  }
 ],
 "metadata": {
  "kernelspec": {
   "display_name": "Python 3",
   "language": "python",
   "name": "python3"
  },
  "language_info": {
   "codemirror_mode": {
    "name": "ipython",
    "version": 3
   },
   "file_extension": ".py",
   "mimetype": "text/x-python",
   "name": "python",
   "nbconvert_exporter": "python",
   "pygments_lexer": "ipython3",
   "version": "3.8.5"
  }
 },
 "nbformat": 4,
 "nbformat_minor": 5
}
